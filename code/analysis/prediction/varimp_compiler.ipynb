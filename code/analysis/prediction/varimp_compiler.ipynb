{
 "cells": [
  {
   "cell_type": "code",
   "execution_count": 1,
   "metadata": {},
   "outputs": [],
   "source": [
    "import sys\n",
    "sys.path.append('/pl/active/banich/studies/Relevantstudies/abcd/env/lib/python3.7/site-packages')\n",
    "sys.path.append('/pl/active/banich/studies/Relevantstudies/abcd/data/clustering/analysis/')\n",
    "from functions import *\n",
    "\n",
    "import glob"
   ]
  },
  {
   "cell_type": "code",
   "execution_count": 2,
   "metadata": {},
   "outputs": [],
   "source": [
    "path = '/pl/active/banich/studies/Relevantstudies/abcd/data/clustering/analysis/prediction/varimp_output/'\n",
    "files = glob.glob(f'{path}*')\n",
    "\n",
    "sample1_paths = []\n",
    "sample2_paths = []\n",
    "\n",
    "for file_path in files:\n",
    "    if 'sample1' in file_path:\n",
    "        sample1_paths.append(file_path)\n",
    "    elif 'sample2' in file_path:\n",
    "        sample2_paths.append(file_path)"
   ]
  },
  {
   "cell_type": "code",
   "execution_count": 3,
   "metadata": {},
   "outputs": [],
   "source": [
    "weighting_path = '/pl/active/banich/studies/Relevantstudies/abcd/data/clustering/analysis/prediction/varimp_boruta_fts/'\n",
    "\n",
    "path_list = glob.glob(f'{weighting_path}*')\n",
    "\n",
    "string_to_remove = '/pl/active/banich/studies/Relevantstudies/abcd/data/clustering/analysis/prediction/varimp_boruta_fts/'\n",
    "\n",
    "# Iterate through the paths and perform the removal\n",
    "new_path_list = []\n",
    "for path in path_list:\n",
    "    # Remove the specified string\n",
    "    new_path = path.replace(string_to_remove, '')\n",
    "    \n",
    "    # Remove '.csv' from the end of the string\n",
    "    if new_path.endswith('.csv'):\n",
    "        new_path = new_path[:-4]\n",
    "    \n",
    "    new_path_list.append(new_path)\n",
    "    \n",
    "pull = ['CommonEF', 'Intelligence', 'UpdatingSpecific', 'pc1_new_r', 'pc2_new_r', 'pc3_new_r']\n",
    "\n",
    "# Use a list comprehension to filter 'path_list'\n",
    "filtered_path_list = [path for path in  new_path_list if path in pull]"
   ]
  },
  {
   "cell_type": "code",
   "execution_count": 4,
   "metadata": {},
   "outputs": [],
   "source": [
    "import re\n",
    "\n",
    "file_path = \"/pl/active/banich/studies/Relevantstudies/abcd/data/clustering/analysis/prediction/varimp_output/pc1_new_r_varimp_sample1_537_permimp.csv\"\n",
    "\n",
    "# Use regular expression to extract the number\n",
    "match = int(re.search(r'_(\\d+)_permimp\\.csv', file_path).group(1))\n"
   ]
  },
  {
   "cell_type": "code",
   "execution_count": 5,
   "metadata": {},
   "outputs": [],
   "source": [
    "def compileit(files, sample):\n",
    "    import re\n",
    "    performance_list = []\n",
    "    for filename in files:\n",
    "        performance_df = pd.read_csv(filename).iloc[:, 1:]\n",
    "        string_remove = '/pl/active/banich/studies/Relevantstudies/abcd/data/clustering/analysis/prediction/varimp_output/'\n",
    "        performance_df = (performance_df\n",
    "                          .assign(Measure = filename.replace(string_remove, '').split('_varimp')[0],\n",
    "                                  Sample = sample,\n",
    "                                  itr = int(re.search(r'_(\\d+)_permimp\\.csv', filename).group(1)))\n",
    "                         )\n",
    "        performance_list.append(performance_df)\n",
    "\n",
    "\n",
    "    # Concatenate the DataFrames in performance_list\n",
    "    concatenated_df = pd.concat(performance_list)\n",
    "    \n",
    "    import statsmodels.api as sm\n",
    "    \n",
    "    model = sm.OLS.from_formula('VIM_temp ~ Measure', data=concatenated_df).fit()\n",
    "    concatenated_df['Residualized_VIM_temp'] = model.resid\n",
    "    \n",
    "    return concatenated_df \n",
    "\n",
    "sample1_concatenated_df = compileit(sample1_paths, 'sample1')\n",
    "sample2_concatenated_df = compileit(sample2_paths, 'sample2')"
   ]
  },
  {
   "cell_type": "code",
   "execution_count": 6,
   "metadata": {},
   "outputs": [],
   "source": [
    "#var_rank = rank/number of occurences\n",
    "#mean_rank = rank amongst cog"
   ]
  },
  {
   "cell_type": "code",
   "execution_count": 7,
   "metadata": {},
   "outputs": [],
   "source": [
    "def get_top_vars(concatenated_df, col):\n",
    "    # Group by 'Variable' and calculate mean and std for 'Vim_temp'\n",
    "    result_df = (concatenated_df\n",
    "                 .groupby('Variable')[col]\n",
    "                 .agg(['mean', 'std'])\n",
    "                 .sort_values('mean', ascending=False)\n",
    "                 #.iloc[:15]\n",
    "                )\n",
    "\n",
    "    # result_df will contain the mean and std for 'Vim_temp' for the top 15 'Variable' groups\n",
    "    top_vars = result_df.index.to_list()\n",
    "    custom_order = pd.CategoricalDtype(categories=top_vars, ordered=True)\n",
    "\n",
    "    # Use the custom sorting order to sort the DataFrame\n",
    "    sorted_df = concatenated_df.query('Variable in @top_vars')\n",
    "    sorted_df['Variable'] = sorted_df['Variable'].astype(custom_order)\n",
    "    sorted_df = sorted_df.sort_values(by='Variable')\n",
    "\n",
    "    \n",
    "    return result_df, top_vars, custom_order, sorted_df\n",
    "\n",
    "sample1_result_df, sample1_top_vars, sample1_custom_order, sample1_sorted_df = get_top_vars(sample1_concatenated_df, 'Residualized_VIM_temp')\n",
    "sample2_result_df, sample2_top_vars, sample2_custom_order, sample2_sorted_df = get_top_vars(sample2_concatenated_df, 'Residualized_VIM_temp')"
   ]
  },
  {
   "cell_type": "code",
   "execution_count": 8,
   "metadata": {},
   "outputs": [],
   "source": [
    "samples_sorted = pd.concat([sample1_sorted_df, sample2_sorted_df])\n",
    "samples_sorted.to_csv('/pl/active/banich/studies/Relevantstudies/abcd/data/clustering/analysis/prediction/varimp_compiled_sorted_samples.csv', index=False)"
   ]
  },
  {
   "cell_type": "code",
   "execution_count": 9,
   "metadata": {},
   "outputs": [
    {
     "data": {
      "text/plain": [
       "562"
      ]
     },
     "execution_count": 9,
     "metadata": {},
     "output_type": "execute_result"
    }
   ],
   "source": [
    "max(samples_sorted.query('Measure == \"predmeditation\"').itr)"
   ]
  },
  {
   "cell_type": "code",
   "execution_count": null,
   "metadata": {},
   "outputs": [],
   "source": []
  }
 ],
 "metadata": {
  "kernelspec": {
   "display_name": "Python 3 (ipykernel)",
   "language": "python",
   "name": "python3"
  },
  "language_info": {
   "codemirror_mode": {
    "name": "ipython",
    "version": 3
   },
   "file_extension": ".py",
   "mimetype": "text/x-python",
   "name": "python",
   "nbconvert_exporter": "python",
   "pygments_lexer": "ipython3",
   "version": "3.7.12"
  }
 },
 "nbformat": 4,
 "nbformat_minor": 4
}
