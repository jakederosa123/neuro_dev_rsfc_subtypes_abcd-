{
 "cells": [
  {
   "cell_type": "code",
   "execution_count": 1,
   "metadata": {},
   "outputs": [
    {
     "name": "stdout",
     "output_type": "stream",
     "text": [
      "CBCL: cbcl_base_t, cbcl_base_factors \n",
      "fMRI nback: nback\n",
      "SST: sst\n",
      "NIH: pcs\n",
      "Stroop Behavioral: stroop\n",
      "Matrix: Reasoning\n",
      "All demos: demos_baseline\n",
      "UPPS Factors: upps_factors\n",
      "Cognitive: cog_all\n",
      "COG EF Factors: cog_ef_factors\n",
      "Resting State Include: sample1_rest_include, sample2_rest_include, full_sample_rest_include /n sample1_rest_include_idsub, sample2_rest_include_idsub, sample2_rest_idsub, full_sample_rest_include_idsub\n",
      "Resting State Combined: sample1_rest_combined, sample2_rest_combined, full_sample_rest_combined /n sample1_rest_combined_idsub, sample2_rest_combined_idsub, full_sample_rest_combined_idsub\n",
      "Resting State Dont Include: full_sample_rest_dont_include /n full_sample_rest_dont_include_idsub\n"
     ]
    }
   ],
   "source": [
    "import sys\n",
    "sys.path.append('/pl/active/banich/studies/Relevantstudies/abcd/data/clustering/analysis/')\n",
    "\n",
    "from import_data import *\n",
    "from import_subtypes import *"
   ]
  },
  {
   "cell_type": "code",
   "execution_count": 2,
   "metadata": {},
   "outputs": [],
   "source": [
    "def std_data(data, std_vars):\n",
    "    \n",
    "    for col in data[std_vars].columns:\n",
    "        data[col] = (data[col] - data[col].mean())/data[col].std(ddof=0)\n",
    "        \n",
    "    return data\n",
    "\n",
    "def get_stds(data): \n",
    "    \n",
    "    import numpy as np\n",
    "    from scipy import stats\n",
    "\n",
    "    def confidence_interval(data):\n",
    "        \"\"\"Return 95% confidence interval for mean.\"\"\"\n",
    "        mean = np.mean(data)\n",
    "        ci_low, ci_high = stats.t.interval(0.95, len(data)-1, loc=mean, scale=stats.sem(data))\n",
    "        return ci_low, ci_high \n",
    "\n",
    "    cis_low_list=[]\n",
    "    cis_high_list=[]\n",
    "    cis_dif_list=[]\n",
    "    \n",
    "    columns_to_check = data.columns.to_list()\n",
    "\n",
    "    for i in data.Subtype.unique():\n",
    "\n",
    "        # Filter out rows with NA values in specific columns for the specific Subtype\n",
    "        filtered_data = data.query('Subtype == @i').dropna(subset=columns_to_check)\n",
    "\n",
    "        # Check if filtered_data is not empty\n",
    "        if not filtered_data.empty:\n",
    "\n",
    "            cis = (filtered_data\n",
    "                   .apply(lambda x: confidence_interval(x))\n",
    "                   .reset_index()\n",
    "                   .iloc[:, 2:].T.rename({0:'low', 1:'high'}, axis=1)\n",
    "                  )\n",
    "\n",
    "            cis['dif'] = (cis['high'] - cis['low'])/4\n",
    "\n",
    "            cis_low_list.append(cis['low'].to_list())\n",
    "            cis_high_list.append(cis['high'].to_list())\n",
    "            cis_dif_list.append(cis['dif'].to_list())\n",
    "\n",
    "    cis_low_dict = {i+1: cis_low_list[i] for i in range(len(cis_low_list))}\n",
    "    cis_high_dict = {i+1: cis_high_list[i] for i in range(len(cis_high_list))}\n",
    "    stds = {i+1: cis_dif_list[i] for i in range(len(cis_dif_list))}\n",
    "    \n",
    "    return stds\n",
    "\n",
    "\n",
    "def get_means(data):\n",
    "    \n",
    "    means = data.groupby('Subtype').mean().reset_index().T.iloc[1:]\n",
    "    means.columns = list(range(1, means.shape[1]+1))\n",
    "    means= {col: means[col].tolist() for col in means.columns}\n",
    "    \n",
    "    return means\n",
    "\n",
    "def get_means_stds(data):\n",
    "    \n",
    "    means = get_means(data)\n",
    "    stds = get_stds(data)\n",
    "    \n",
    "    return means, stds\n",
    "\n",
    "import numpy as np\n",
    "import matplotlib.pyplot as plt\n"
   ]
  },
  {
   "cell_type": "code",
   "execution_count": 3,
   "metadata": {},
   "outputs": [],
   "source": [
    "full_sample_all = (full_sample_rest_include_idsub\n",
    " .merge(cog_all, on='ID', how='outer')\n",
    " .merge(cog_ef_factors, on='ID', how='outer')\n",
    " .merge(cbcl_b_t, on='ID', how='outer')\n",
    " .merge(cbcl_base_factors, on='ID', how='outer')\n",
    " .merge(upps_factors, on='ID', how='outer')\n",
    " .merge(stroop_beh, on='ID', how='outer')\n",
    " .drop_duplicates('ID', keep='first')\n",
    " .dropna(subset=['Subtype'])\n",
    " #.query('abcd_site != \"site22\"')\n",
    ")\n",
    "\n",
    "sample1_all = (sample1_rest_include_idsub\n",
    " .merge(cog_all, on='ID', how='outer')\n",
    " .merge(cog_ef_factors, on='ID', how='outer')\n",
    " .merge(cbcl_b_t, on='ID', how='outer')\n",
    " .merge(cbcl_base_factors, on='ID', how='outer')\n",
    " .merge(upps_factors, on='ID', how='outer')\n",
    " .merge(stroop_beh, on='ID', how='outer')\n",
    " .drop_duplicates('ID', keep='first')\n",
    " .dropna(subset=['Subtype'])\n",
    " #.query('abcd_site != \"site22\"')\n",
    ")\n",
    "\n",
    "\n",
    "sample2_all = (sample2_rest_include_idsub\n",
    " .merge(cog_all, on='ID', how='outer')\n",
    " .merge(cog_ef_factors, on='ID', how='outer')\n",
    " .merge(cbcl_b_t, on='ID', how='outer')\n",
    " .merge(cbcl_base_factors, on='ID', how='outer')\n",
    " .merge(upps_factors, on='ID', how='outer')\n",
    " .merge(stroop_beh, on='ID', how='outer')\n",
    " .drop_duplicates('ID', keep='first')\n",
    " .dropna(subset=['Subtype'])\n",
    " #.query('abcd_site != \"site22\"')\n",
    ")"
   ]
  },
  {
   "cell_type": "code",
   "execution_count": 4,
   "metadata": {},
   "outputs": [],
   "source": [
    "def radar(plot_data, radar_var, min_val, max_val, num_breaks,  dont_include_x = None, save=None):\n",
    "    \n",
    "    means, stds = get_means_stds(plot_data)\n",
    "    rest_colors = ['#f6511d', '#ffb400', '#7fb800', '#0d2c54']\n",
    "\n",
    "    data = {\n",
    "        'Subtype 1': {'scores': means[1], 'std': stds[1], 'color': rest_colors[0]},\n",
    "        'Subtype 2': {'scores': means[2], 'std': stds[2], 'color': rest_colors[1]},\n",
    "        'Subtype 3': {'scores': means[3], 'std': stds[3], 'color': rest_colors[2]},\n",
    "        'Subtype 4': {'scores': means[4], 'std': stds[4], 'color': rest_colors[3]}\n",
    "    }\n",
    "\n",
    "    import matplotlib.colors\n",
    "\n",
    "    fig = plt.figure(figsize=(10, 10))\n",
    "    ax = fig.add_subplot(111, polar=True)\n",
    "\n",
    "    angles = np.linspace(0, 2 * np.pi, len(radar_vars), endpoint=False)\n",
    "    angles = np.concatenate((angles, [angles[0]]))\n",
    "    #radar_vars.append(radar_vars[0])\n",
    "    \n",
    "    local_radar_vars = radar_var.copy()\n",
    "    local_radar_vars.append(local_radar_vars[0])\n",
    "\n",
    "    # Loop through the data dictionary to plot each student's data\n",
    "    for sub, attributes in data.items():\n",
    "\n",
    "        scores = attributes['scores'] + [attributes['scores'][0]]\n",
    "\n",
    "        std_dev = attributes['std'] + [attributes['std'][0]/2]\n",
    "        std_dev_pos = [sum(x) for x in zip(scores, std_dev)]\n",
    "        std_dev_neg = [s - d for s, d in zip(scores, std_dev)]\n",
    "\n",
    "        color = attributes['color']\n",
    "\n",
    "        plot = ax.errorbar(angles, scores, \n",
    "                           yerr=std_dev, \n",
    "                           fmt='o-', \n",
    "                           color=color, \n",
    "                           linewidth=0, \n",
    "                           label=sub)\n",
    "\n",
    "        ax.plot(angles, scores, 'o-', color=color, linewidth=2, label=sub, zorder=3, markersize=4)\n",
    "        alpha_value = 0.1  # Adjust this value as needed. 1.0 is opaque, 0.0 is transparent.\n",
    "        #ax.plot(angles, scores, 'o-', color=color, linewidth=2, label=sub)\n",
    "        # Now, we will fill between the scores and std_dev_pos, and scores and std_dev_neg\n",
    "        ax.fill_between(angles, scores, std_dev_pos, alpha=alpha_value, color=color, edgecolor='none')\n",
    "        ax.fill_between(angles, scores, std_dev_neg, alpha=alpha_value, color=color, edgecolor='none')\n",
    "\n",
    "        plot[-1][0].set_color(color)\n",
    "        \n",
    "    ax.set_facecolor(None)\n",
    "    ax.set_thetagrids(angles * 180 / np.pi, local_radar_vars, zorder=1)\n",
    "\n",
    "    ax.grid(axis='y', color='#CECDC7', linewidth=1,  zorder=3)\n",
    "    ax.grid(axis='x', color='#CECDC7', linewidth=.5, zorder=2)\n",
    "    # Remove the vertical lines on the radar plot\n",
    "    #ax.spines[\"polar\"].set_visible(False)\n",
    "    \n",
    "    for spine in ax.spines.values():\n",
    "        spine.set_color('white')\n",
    "        \n",
    "     # Adjust y-ticks to spread them out\n",
    "    #yticks = np.linspace(min_val, max_val, num_breaks)  # adjust min_val, max_val, num_breaks as needed\n",
    "    yticks = np.arange(min_val, max_val + 0.1, num_breaks)  # Updated this line for 0.1 increments\n",
    "    ax.set_yticks(yticks)\n",
    "    \n",
    "    #ax.xaxis.grid(False)\n",
    "    # Adjust position of radial labels to ensure they don't touch the plot\n",
    "    # Set the maximum radial value to push the labels outward\n",
    "    #ax.set_rmax(max_val +.1)  # Adding an offset, adjust this as needed\n",
    "    # Adjust position of radial labels to ensure they don't touch the plot\n",
    "    ax.set_rlabel_position(36)  # Adjust the angle as needed. It's reduced to 15 degrees for better placement.\n",
    "        \n",
    "    #plt.tight_layout()\n",
    "     # Instead of using min_val and max_val, use fixed_min and fixed_max\n",
    "    ax.set_ylim(min_val-.1, max_val+.1)  # Set the fixed min and max for the radar plot\n",
    "\n",
    "    if dont_include_x is not None:\n",
    "        ax.tick_params(axis='x', which='both', bottom=False, top=False, labelbottom=False)\n",
    "        ax.tick_params(axis='y', which='both', left=False, right=False, labelleft=False)\n",
    "\n",
    "    plt.tight_layout()\n",
    "    \n",
    "    if save is not None:\n",
    "        \n",
    "        #plt.figure(facecolor='none')\n",
    "            \n",
    "        plt.savefig(f'/pl/active/banich/studies/Relevantstudies/abcd/data/clustering/analysis/group_differences/pheno_figs/rest/{save}.png', \n",
    "                    #facecolor=None, \n",
    "                    dpi=300, \n",
    "                    transparent=True, \n",
    "                    #edgecolor='none'\n",
    "                   )\n",
    "        plt.clf()\n",
    "        \n",
    "    else:\n",
    "        plt.show()"
   ]
  },
  {
   "cell_type": "code",
   "execution_count": 5,
   "metadata": {},
   "outputs": [
    {
     "data": {
      "text/plain": [
       "<Figure size 1000x1000 with 0 Axes>"
      ]
     },
     "metadata": {},
     "output_type": "display_data"
    },
    {
     "data": {
      "text/plain": [
       "<Figure size 1000x1000 with 0 Axes>"
      ]
     },
     "metadata": {},
     "output_type": "display_data"
    },
    {
     "data": {
      "text/plain": [
       "<Figure size 1000x1000 with 0 Axes>"
      ]
     },
     "metadata": {},
     "output_type": "display_data"
    },
    {
     "data": {
      "text/plain": [
       "<Figure size 1000x1000 with 0 Axes>"
      ]
     },
     "metadata": {},
     "output_type": "display_data"
    },
    {
     "data": {
      "text/plain": [
       "<Figure size 1000x1000 with 0 Axes>"
      ]
     },
     "metadata": {},
     "output_type": "display_data"
    },
    {
     "data": {
      "text/plain": [
       "<Figure size 1000x1000 with 0 Axes>"
      ]
     },
     "metadata": {},
     "output_type": "display_data"
    }
   ],
   "source": [
    "radar_vars = ['total_r', 'internalizing_r', 'anxious_depressed_r', 'withdrawn_depressed_r','social_problems_r','somatic_complaints_r',\n",
    "              'thought_problems_r','attention_problems_r','rule_breaking_r','agressive_r', 'externalizing_r', 'negative_urgency', \n",
    "              'positive_urgency', 'predmeditation', 'perserverance', 'sensation_seeking', 'CommonEF', 'UpdatingSpecific', 'Intelligence', \n",
    "              'pc1_new_r','pc2_new_r','pc3_new_r', 'LMT_r', 'RAVLT_r','Stroop_interf_acc_all_r','Happy_Acc_Eq_r','Angry_Acc_Eq_r']\n",
    "#std_vars_all = sample1_all.iloc[:, 2:].columns.to_list()\n",
    "\n",
    "for i,j in zip([full_sample_all, sample1_all, sample2_all], \n",
    "               ['full_sample_all', 'sample1_all', 'sample2_all']):\n",
    "    \n",
    "    sample_all_sel = std_data(i[['Subtype'] + radar_vars], radar_vars)\n",
    "    radar(sample_all_sel, radar_vars, min_val = -.4, max_val = .3, num_breaks = .2, save=j)\n",
    "\n",
    "for i,j in zip([full_sample_all, sample1_all, sample2_all], \n",
    "           ['full_sample_all_nox', 'sample1_all_nox', 'sample2_all_nox']):\n",
    "\n",
    "    sample_all_sel = std_data(i[['Subtype'] + radar_vars], radar_vars)\n",
    "    radar(sample_all_sel, radar_vars, min_val = -.4, max_val = .3, num_breaks = .2, dont_include_x=True, save=j)"
   ]
  },
  {
   "cell_type": "code",
   "execution_count": 6,
   "metadata": {},
   "outputs": [
    {
     "data": {
      "text/plain": [
       "<Figure size 1000x1000 with 0 Axes>"
      ]
     },
     "metadata": {},
     "output_type": "display_data"
    },
    {
     "data": {
      "text/plain": [
       "<Figure size 1000x1000 with 0 Axes>"
      ]
     },
     "metadata": {},
     "output_type": "display_data"
    }
   ],
   "source": [
    "for i,j in zip([sample1_rest_include_idsub, sample2_rest_include_idsub],\n",
    "               ['sample1_rest_include_radar_cbcl', 'sample2_rest_include_radar_cbcl']): \n",
    "    \n",
    "    beh_all.iloc[:, 2:12].columns.to_list()\n",
    "    data_subs = pd.merge(i, beh_all, on='ID')\n",
    "    radar_vars = beh_all.iloc[:, 2:12].columns.to_list()\n",
    "\n",
    "    radar_vars = [\n",
    "         'internalizing_r',\n",
    "         'withdrawn_depressed_r',\n",
    "         'somatic_complaints_r',\n",
    "         'social_problems_r',\n",
    "         'thought_problems_r',\n",
    "         'attention_problems_r',\n",
    "         'rule_breaking_r',\n",
    "         'agressive_r',\n",
    "         'externalizing_r',\n",
    "         'total_r']\n",
    "    \n",
    "    sample = std_data(data_subs[['Subtype'] + radar_vars], radar_vars)\n",
    "\n",
    "    radar(sample, radar_vars, min_val = -.20, max_val = .20, num_breaks = .1, save=j)"
   ]
  },
  {
   "cell_type": "code",
   "execution_count": null,
   "metadata": {},
   "outputs": [],
   "source": [
    "min_val = -.60\n",
    "max_val = .2\n",
    "num_breaks = 5\n",
    "\n",
    "np.linspace(min_val, max_val, num_breaks).round(3)"
   ]
  },
  {
   "cell_type": "code",
   "execution_count": null,
   "metadata": {},
   "outputs": [],
   "source": [
    "ef_vars = list(cog_ef_factors.iloc[:, 1:].columns) + ['LMT_r', 'RAVLT_r']\n",
    "cog_ef_all = pd.merge(cog_ef_factors, cog_all, on = ['ID'])[['ID'] + ef_vars]"
   ]
  },
  {
   "cell_type": "code",
   "execution_count": null,
   "metadata": {},
   "outputs": [],
   "source": [
    "for i,j in zip([sample1_rest_include_idsub, sample2_rest_include_idsub],\n",
    "               ['sample1_rest_include_radar_cogef', 'sample2_rest_include_radar_cogef']): \n",
    "    \n",
    "    cog_plot_data = pd.merge(cog_ef_factors, cog_all, on ='ID')\n",
    "    data_subs = pd.merge(i,cog_plot_data, on='ID')\n",
    "    radar_vars = ['CommonEF', 'UpdatingSpecific', 'Intelligence', 'LMT_r', 'RAVLT_r']\n",
    "    sample = std_data(data_subs[['Subtype'] + radar_vars], radar_vars)\n",
    "\n",
    "    radar(sample, radar_vars, min_val = -.4, max_val = .2, num_breaks = .1, save=j)"
   ]
  },
  {
   "cell_type": "code",
   "execution_count": null,
   "metadata": {},
   "outputs": [],
   "source": [
    "radar(sample, radar_vars, min_val = -.4, max_val = .2, num_breaks = .1, save=None)"
   ]
  },
  {
   "cell_type": "code",
   "execution_count": null,
   "metadata": {},
   "outputs": [],
   "source": [
    "for i,j in zip([sample1_rest_include_idsub, sample2_rest_include_idsub],\n",
    "               ['sample1_rest_include_radar_upps', 'sample2_rest_include_radar_upps']):\n",
    "    \n",
    "    data_subs = pd.merge(i,upps_factors, on='ID')\n",
    "    radar_vars = ['predmeditation', 'perserverance', 'sensation_seeking','negative_urgency', 'positive_urgency']\n",
    "    sample = std_data(data_subs[['Subtype'] + radar_vars], radar_vars)\n",
    "    \n",
    "    radar(sample, radar_vars, min_val = -.2, max_val = .2, num_breaks = .1, save=j)"
   ]
  },
  {
   "cell_type": "code",
   "execution_count": null,
   "metadata": {},
   "outputs": [],
   "source": [
    "radar(sample, radar_vars, min_val = -.2, max_val = .2, num_breaks = .1, save=None)"
   ]
  },
  {
   "cell_type": "code",
   "execution_count": null,
   "metadata": {},
   "outputs": [],
   "source": [
    "for i,j in zip([sample1_rest_include_idsub, sample2_rest_include_idsub],\n",
    "               ['sample1_rest_include_radar_upps', 'sample2_rest_include_radar_upps']):\n",
    "    \n",
    "    data_subs = pd.merge(i,stroop_beh, on='ID')\n",
    "    radar_vars = ['Stroop_interf_acc_all_r','Happy_Acc_Eq_r','Angry_Acc_Eq_r']\n",
    "    sample = std_data(data_subs[['Subtype'] + radar_vars], radar_vars)\n",
    "\n",
    "    radar(sample, radar_vars, min_val = -.2, max_val = .2, num_breaks = .1, save=j)"
   ]
  },
  {
   "cell_type": "code",
   "execution_count": null,
   "metadata": {},
   "outputs": [],
   "source": [
    "radar(sample, radar_vars, min_val = -.2, max_val = .2, num_breaks = .1, save=None)"
   ]
  },
  {
   "cell_type": "code",
   "execution_count": null,
   "metadata": {},
   "outputs": [],
   "source": []
  },
  {
   "cell_type": "code",
   "execution_count": null,
   "metadata": {},
   "outputs": [],
   "source": []
  }
 ],
 "metadata": {
  "kernelspec": {
   "display_name": "Python 3 (ipykernel)",
   "language": "python",
   "name": "python3"
  },
  "language_info": {
   "codemirror_mode": {
    "name": "ipython",
    "version": 3
   },
   "file_extension": ".py",
   "mimetype": "text/x-python",
   "name": "python",
   "nbconvert_exporter": "python",
   "pygments_lexer": "ipython3",
   "version": "3.7.12"
  }
 },
 "nbformat": 4,
 "nbformat_minor": 4
}
