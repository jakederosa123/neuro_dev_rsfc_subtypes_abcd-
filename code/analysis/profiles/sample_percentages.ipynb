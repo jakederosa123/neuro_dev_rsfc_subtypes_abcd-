{
 "cells": [
  {
   "cell_type": "code",
   "execution_count": 1,
   "metadata": {},
   "outputs": [
    {
     "name": "stdout",
     "output_type": "stream",
     "text": [
      "Resting State Include: sample1_rest_include, sample2_rest_include, full_sample_rest_include /n sample1_rest_include_idsub, sample2_rest_include_idsub, sample2_rest_idsub, full_sample_rest_include_idsub\n",
      "Resting State Combined: sample1_rest_combined, sample2_rest_combined, full_sample_rest_combined /n sample1_rest_combined_idsub, sample2_rest_combined_idsub, full_sample_rest_combined_idsub\n",
      "Resting State Dont Include: full_sample_rest_dont_include /n full_sample_rest_dont_include_idsub\n"
     ]
    }
   ],
   "source": [
    "import sys\n",
    "sys.path.append('/pl/active/banich/studies/Relevantstudies/abcd/bagpype/lib/python3.7/site-packages')\n",
    "sys.path.append('/pl/active/banich/studies/Relevantstudies/abcd/data/clustering/analysis/')\n",
    "from functions import *\n",
    "from import_subtypes import *"
   ]
  },
  {
   "cell_type": "code",
   "execution_count": 2,
   "metadata": {},
   "outputs": [],
   "source": [
    "import pandas as pd\n",
    "\n",
    "# Example DataFrame\n",
    "# df = pd.DataFrame({'category_column': [... your data ...]})\n",
    "\n",
    "def perc(df, category_column, sample):\n",
    "    # Calculate counts and percentages\n",
    "    counts = df[category_column].value_counts()\n",
    "    percentages = round(df[category_column].value_counts(normalize=True) * 100, 2)\n",
    "\n",
    "    # Combine counts and percentages into a single DataFrame for a nicer display\n",
    "    summary = (pd.DataFrame({'Count': counts, 'Percentage': percentages})\n",
    "               .assign(Sample = sample))\n",
    "    \n",
    "\n",
    "    summary['Subtype'] = summary.index\n",
    "    \n",
    "    # Creating the new column\n",
    "    summary['Perc'] = \"N=\" + summary['Count'].astype(str) + \" (\" + summary['Percentage'].astype(str) + \"%)\"\n",
    "\n",
    "    summary = summary.sort_values('Subtype')\n",
    "\n",
    "    return summary[['Subtype', 'Sample', 'Perc']]"
   ]
  },
  {
   "cell_type": "code",
   "execution_count": 3,
   "metadata": {},
   "outputs": [
    {
     "data": {
      "text/html": [
       "<div>\n",
       "<style scoped>\n",
       "    .dataframe tbody tr th:only-of-type {\n",
       "        vertical-align: middle;\n",
       "    }\n",
       "\n",
       "    .dataframe tbody tr th {\n",
       "        vertical-align: top;\n",
       "    }\n",
       "\n",
       "    .dataframe thead th {\n",
       "        text-align: right;\n",
       "    }\n",
       "</style>\n",
       "<table border=\"1\" class=\"dataframe\">\n",
       "  <thead>\n",
       "    <tr style=\"text-align: right;\">\n",
       "      <th></th>\n",
       "      <th>1</th>\n",
       "      <th>2</th>\n",
       "      <th>3</th>\n",
       "      <th>4</th>\n",
       "      <th>1</th>\n",
       "      <th>2</th>\n",
       "      <th>3</th>\n",
       "      <th>4</th>\n",
       "      <th>1</th>\n",
       "      <th>2</th>\n",
       "      <th>3</th>\n",
       "      <th>4</th>\n",
       "    </tr>\n",
       "  </thead>\n",
       "  <tbody>\n",
       "    <tr>\n",
       "      <th>Subtype</th>\n",
       "      <td>1</td>\n",
       "      <td>2</td>\n",
       "      <td>3</td>\n",
       "      <td>4</td>\n",
       "      <td>1</td>\n",
       "      <td>2</td>\n",
       "      <td>3</td>\n",
       "      <td>4</td>\n",
       "      <td>1</td>\n",
       "      <td>2</td>\n",
       "      <td>3</td>\n",
       "      <td>4</td>\n",
       "    </tr>\n",
       "    <tr>\n",
       "      <th>Sample</th>\n",
       "      <td>Full Sample</td>\n",
       "      <td>Full Sample</td>\n",
       "      <td>Full Sample</td>\n",
       "      <td>Full Sample</td>\n",
       "      <td>Sample 1</td>\n",
       "      <td>Sample 1</td>\n",
       "      <td>Sample 1</td>\n",
       "      <td>Sample 1</td>\n",
       "      <td>Sample 2</td>\n",
       "      <td>Sample 2</td>\n",
       "      <td>Sample 2</td>\n",
       "      <td>Sample 2</td>\n",
       "    </tr>\n",
       "    <tr>\n",
       "      <th>Perc</th>\n",
       "      <td>N=2062 (28.27%)</td>\n",
       "      <td>N=1776 (24.35%)</td>\n",
       "      <td>N=1645 (22.56%)</td>\n",
       "      <td>N=1810 (24.82%)</td>\n",
       "      <td>N=984 (26.81%)</td>\n",
       "      <td>N=928 (25.29%)</td>\n",
       "      <td>N=805 (21.93%)</td>\n",
       "      <td>N=953 (25.97%)</td>\n",
       "      <td>N=1027 (28.35%)</td>\n",
       "      <td>N=813 (22.44%)</td>\n",
       "      <td>N=874 (24.12%)</td>\n",
       "      <td>N=909 (25.09%)</td>\n",
       "    </tr>\n",
       "  </tbody>\n",
       "</table>\n",
       "</div>"
      ],
      "text/plain": [
       "                       1                2                3                4  \\\n",
       "Subtype                1                2                3                4   \n",
       "Sample       Full Sample      Full Sample      Full Sample      Full Sample   \n",
       "Perc     N=2062 (28.27%)  N=1776 (24.35%)  N=1645 (22.56%)  N=1810 (24.82%)   \n",
       "\n",
       "                      1               2               3               4  \\\n",
       "Subtype               1               2               3               4   \n",
       "Sample         Sample 1        Sample 1        Sample 1        Sample 1   \n",
       "Perc     N=984 (26.81%)  N=928 (25.29%)  N=805 (21.93%)  N=953 (25.97%)   \n",
       "\n",
       "                       1               2               3               4  \n",
       "Subtype                1               2               3               4  \n",
       "Sample          Sample 2        Sample 2        Sample 2        Sample 2  \n",
       "Perc     N=1027 (28.35%)  N=813 (22.44%)  N=874 (24.12%)  N=909 (25.09%)  "
      ]
     },
     "execution_count": 3,
     "metadata": {},
     "output_type": "execute_result"
    }
   ],
   "source": [
    "fs_include = perc(full_sample_rest_include, 'Subtype', 'Full Sample')\n",
    "s1_include = perc(sample1_rest_include, 'Subtype', 'Sample 1')\n",
    "s2_include = perc(sample2_rest_include, 'Subtype',  'Sample 2')\n",
    "\n",
    "pd.concat([fs_include, s1_include, s2_include]).T"
   ]
  },
  {
   "cell_type": "code",
   "execution_count": 4,
   "metadata": {},
   "outputs": [
    {
     "name": "stdout",
     "output_type": "stream",
     "text": [
      "3670\n",
      "3623\n",
      "7293\n"
     ]
    }
   ],
   "source": [
    "print(sample1_rest_include.shape[0])\n",
    "print(sample2_rest_include.shape[0])\n",
    "print(full_sample_rest_include.shape[0])"
   ]
  },
  {
   "cell_type": "code",
   "execution_count": 5,
   "metadata": {},
   "outputs": [
    {
     "data": {
      "text/html": [
       "<div>\n",
       "<style scoped>\n",
       "    .dataframe tbody tr th:only-of-type {\n",
       "        vertical-align: middle;\n",
       "    }\n",
       "\n",
       "    .dataframe tbody tr th {\n",
       "        vertical-align: top;\n",
       "    }\n",
       "\n",
       "    .dataframe thead th {\n",
       "        text-align: right;\n",
       "    }\n",
       "</style>\n",
       "<table border=\"1\" class=\"dataframe\">\n",
       "  <thead>\n",
       "    <tr style=\"text-align: right;\">\n",
       "      <th></th>\n",
       "      <th>1</th>\n",
       "      <th>2</th>\n",
       "      <th>3</th>\n",
       "      <th>4</th>\n",
       "      <th>1</th>\n",
       "      <th>2</th>\n",
       "      <th>3</th>\n",
       "      <th>4</th>\n",
       "      <th>1</th>\n",
       "      <th>2</th>\n",
       "      <th>3</th>\n",
       "      <th>4</th>\n",
       "    </tr>\n",
       "  </thead>\n",
       "  <tbody>\n",
       "    <tr>\n",
       "      <th>Subtype</th>\n",
       "      <td>1</td>\n",
       "      <td>2</td>\n",
       "      <td>3</td>\n",
       "      <td>4</td>\n",
       "      <td>1</td>\n",
       "      <td>2</td>\n",
       "      <td>3</td>\n",
       "      <td>4</td>\n",
       "      <td>1</td>\n",
       "      <td>2</td>\n",
       "      <td>3</td>\n",
       "      <td>4</td>\n",
       "    </tr>\n",
       "    <tr>\n",
       "      <th>Sample</th>\n",
       "      <td>Full Sample</td>\n",
       "      <td>Full Sample</td>\n",
       "      <td>Full Sample</td>\n",
       "      <td>Full Sample</td>\n",
       "      <td>Sample 1</td>\n",
       "      <td>Sample 1</td>\n",
       "      <td>Sample 1</td>\n",
       "      <td>Sample 1</td>\n",
       "      <td>Sample 2</td>\n",
       "      <td>Sample 2</td>\n",
       "      <td>Sample 2</td>\n",
       "      <td>Sample 2</td>\n",
       "    </tr>\n",
       "    <tr>\n",
       "      <th>Perc</th>\n",
       "      <td>N=2531 (28.04%)</td>\n",
       "      <td>N=2503 (27.73%)</td>\n",
       "      <td>N=1912 (21.18%)</td>\n",
       "      <td>N=2081 (23.05%)</td>\n",
       "      <td>N=1229 (27.23%)</td>\n",
       "      <td>N=1231 (27.28%)</td>\n",
       "      <td>N=939 (20.81%)</td>\n",
       "      <td>N=1114 (24.68%)</td>\n",
       "      <td>N=1243 (27.54%)</td>\n",
       "      <td>N=1243 (27.54%)</td>\n",
       "      <td>N=1015 (22.49%)</td>\n",
       "      <td>N=1013 (22.44%)</td>\n",
       "    </tr>\n",
       "  </tbody>\n",
       "</table>\n",
       "</div>"
      ],
      "text/plain": [
       "                       1                2                3                4  \\\n",
       "Subtype                1                2                3                4   \n",
       "Sample       Full Sample      Full Sample      Full Sample      Full Sample   \n",
       "Perc     N=2531 (28.04%)  N=2503 (27.73%)  N=1912 (21.18%)  N=2081 (23.05%)   \n",
       "\n",
       "                       1                2               3                4  \\\n",
       "Subtype                1                2               3                4   \n",
       "Sample          Sample 1         Sample 1        Sample 1         Sample 1   \n",
       "Perc     N=1229 (27.23%)  N=1231 (27.28%)  N=939 (20.81%)  N=1114 (24.68%)   \n",
       "\n",
       "                       1                2                3                4  \n",
       "Subtype                1                2                3                4  \n",
       "Sample          Sample 2         Sample 2         Sample 2         Sample 2  \n",
       "Perc     N=1243 (27.54%)  N=1243 (27.54%)  N=1015 (22.49%)  N=1013 (22.44%)  "
      ]
     },
     "execution_count": 5,
     "metadata": {},
     "output_type": "execute_result"
    }
   ],
   "source": [
    "fs_combined = perc(full_sample_rest_combined, 'Subtype', 'Full Sample')\n",
    "s1_combined = perc(sample1_rest_combined, 'Subtype', 'Sample 1')\n",
    "s2_combined = perc(sample2_rest_combined, 'Subtype',  'Sample 2')\n",
    "\n",
    "pd.concat([fs_combined, s1_combined, s2_combined]).T"
   ]
  },
  {
   "cell_type": "code",
   "execution_count": 6,
   "metadata": {},
   "outputs": [
    {
     "name": "stdout",
     "output_type": "stream",
     "text": [
      "9027\n",
      "4513\n",
      "4514\n"
     ]
    }
   ],
   "source": [
    "print(full_sample_rest_combined.shape[0])\n",
    "print(sample1_rest_combined.shape[0])\n",
    "print(sample2_rest_combined.shape[0])"
   ]
  },
  {
   "cell_type": "code",
   "execution_count": 7,
   "metadata": {},
   "outputs": [
    {
     "data": {
      "text/html": [
       "<div>\n",
       "<style scoped>\n",
       "    .dataframe tbody tr th:only-of-type {\n",
       "        vertical-align: middle;\n",
       "    }\n",
       "\n",
       "    .dataframe tbody tr th {\n",
       "        vertical-align: top;\n",
       "    }\n",
       "\n",
       "    .dataframe thead th {\n",
       "        text-align: right;\n",
       "    }\n",
       "</style>\n",
       "<table border=\"1\" class=\"dataframe\">\n",
       "  <thead>\n",
       "    <tr style=\"text-align: right;\">\n",
       "      <th></th>\n",
       "      <th>1</th>\n",
       "      <th>2</th>\n",
       "      <th>3</th>\n",
       "      <th>4</th>\n",
       "    </tr>\n",
       "  </thead>\n",
       "  <tbody>\n",
       "    <tr>\n",
       "      <th>Subtype</th>\n",
       "      <td>1</td>\n",
       "      <td>2</td>\n",
       "      <td>3</td>\n",
       "      <td>4</td>\n",
       "    </tr>\n",
       "    <tr>\n",
       "      <th>Sample</th>\n",
       "      <td>Full Sample</td>\n",
       "      <td>Full Sample</td>\n",
       "      <td>Full Sample</td>\n",
       "      <td>Full Sample</td>\n",
       "    </tr>\n",
       "    <tr>\n",
       "      <th>Perc</th>\n",
       "      <td>N=306 (23.67%)</td>\n",
       "      <td>N=312 (24.13%)</td>\n",
       "      <td>N=232 (17.94%)</td>\n",
       "      <td>N=443 (34.26%)</td>\n",
       "    </tr>\n",
       "  </tbody>\n",
       "</table>\n",
       "</div>"
      ],
      "text/plain": [
       "                      1               2               3               4\n",
       "Subtype               1               2               3               4\n",
       "Sample      Full Sample     Full Sample     Full Sample     Full Sample\n",
       "Perc     N=306 (23.67%)  N=312 (24.13%)  N=232 (17.94%)  N=443 (34.26%)"
      ]
     },
     "execution_count": 7,
     "metadata": {},
     "output_type": "execute_result"
    }
   ],
   "source": [
    "fs_dont_include = perc(full_sample_rest_dont_include, 'Subtype', 'Full Sample')\n",
    "fs_dont_include.T"
   ]
  },
  {
   "cell_type": "code",
   "execution_count": 8,
   "metadata": {},
   "outputs": [
    {
     "name": "stdout",
     "output_type": "stream",
     "text": [
      "1293\n"
     ]
    }
   ],
   "source": [
    "print(full_sample_rest_dont_include.shape[0])"
   ]
  },
  {
   "cell_type": "code",
   "execution_count": null,
   "metadata": {},
   "outputs": [],
   "source": []
  }
 ],
 "metadata": {
  "kernelspec": {
   "display_name": "env",
   "language": "python",
   "name": "env"
  },
  "language_info": {
   "codemirror_mode": {
    "name": "ipython",
    "version": 3
   },
   "file_extension": ".py",
   "mimetype": "text/x-python",
   "name": "python",
   "nbconvert_exporter": "python",
   "pygments_lexer": "ipython3",
   "version": "3.7.3"
  }
 },
 "nbformat": 4,
 "nbformat_minor": 4
}
