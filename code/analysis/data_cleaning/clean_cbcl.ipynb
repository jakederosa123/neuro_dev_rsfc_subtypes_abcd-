{
 "cells": [
  {
   "cell_type": "code",
   "execution_count": 13,
   "metadata": {},
   "outputs": [],
   "source": [
    "import sys\n",
    "sys.path.append('/pl/active/banich/studies/Relevantstudies/abcd/env/lib/python3.7/site-packages')\n",
    "sys.path.append('/pl/active/banich/studies/Relevantstudies/abcd/data/clustering/analysis/')\n",
    "from functions import *"
   ]
  },
  {
   "cell_type": "code",
   "execution_count": 14,
   "metadata": {},
   "outputs": [],
   "source": [
    "def get_resids(data, var):\n",
    "    import statsmodels.formula.api as smf\n",
    "    model = smf.ols(var + '~ interview_age + C(sex)', data=data)\n",
    "    model = model.fit()\n",
    "    resid = model.resid\n",
    "    return resid\n",
    "\n",
    "def add_resid(data, var):\n",
    "    data[var + \"_r\"] = get_resids(data, var)\n",
    "    return data"
   ]
  },
  {
   "cell_type": "code",
   "execution_count": 15,
   "metadata": {},
   "outputs": [],
   "source": [
    "cbcl = readtxt('/pl/active/banich/studies/Relevantstudies/abcd/data/clustering/behavioral/abcd_cbcl01.txt').rename(columns={'subjectkey': 'ID'})\n",
    "cbcl['ID'] = cbcl['ID'].str.replace('_', '')\n",
    "\n",
    "cbcl_base = cbcl[cbcl['eventname'] == 'baseline_year_1_arm_1']\n",
    "\n",
    "cbcl_only = cbcl_base.iloc[:, 9:128]\n",
    "cbcl_only.columns = cbcl_only.columns.str.lstrip('cbcl_q0').str.rstrip('_p')\n",
    "cbcl_only_cols = cbcl_only.columns\n",
    "cbcl_only[cbcl_only_cols] = cbcl_only[cbcl_only_cols].apply(pd.to_numeric, errors='coerce')\n",
    "\n",
    "#create total raw scores\n",
    "cbcl_only['anxious_depressed'] = cbcl_only[['14','29','30','33','35','45','52','71','91','112']].sum(axis=1)\n",
    "cbcl_only['withdrawn_depressed'] = cbcl_only[['5','42','65','69','75','102','103','111']].sum(axis=1)\n",
    "cbcl_only['somatic_complaints'] = cbcl_only[['47','49', '51', '54','56a','56b','56c','56d','56e','56f','56g']].sum(axis=1)\n",
    "cbcl_only['social_problems'] = cbcl_only[['11','12','25','27','34','36','38','48','62','64','79']].sum(axis=1)\n",
    "cbcl_only['thought_problems'] = cbcl_only[['9','18','40','46','58','59','60','66','70','76','83','84','85','92','100']].sum(axis=1)\n",
    "cbcl_only['attention_problems'] = cbcl_only[['1','4','8','10','13','17','41','61','78','80']].sum(axis=1)\n",
    "cbcl_only['rule_breaking'] = cbcl_only[['2','26','28','39','43','63','67','72','73','81','82','90','96','99','101','105','106']].sum(axis=1)\n",
    "cbcl_only['agressive'] = cbcl_only[['3','16','19','20','21','22','23','37','57','68','86','87','88','89','94','95','97','104']].sum(axis=1)\n",
    "\n",
    "cbcl_only['internalizing'] = (cbcl_only['withdrawn_depressed']+cbcl_only['somatic_complaints']+cbcl_only['anxious_depressed'])/3\n",
    "cbcl_only['externalizing'] = (cbcl_only['rule_breaking']+cbcl_only['agressive'])/3\n",
    "cbcl_only['total'] = (cbcl_only['internalizing']+cbcl_only['externalizing']+cbcl_only['thought_problems']+cbcl_only['social_problems']+cbcl_only['attention_problems'])/5\n",
    "\n",
    "\n",
    "cbcl_base_t = pd.concat([cbcl_only, cbcl_base[['ID','interview_age','sex']]], axis=1).dropna().drop_duplicates(subset =\"ID\", keep = \"first\")\n",
    "\n",
    "cbcl_base_t = cbcl_base_t[['ID', 'interview_age','sex', 'anxious_depressed', 'withdrawn_depressed', 'somatic_complaints',\n",
    "                          'social_problems', 'thought_problems', 'attention_problems', 'rule_breaking', 'agressive', \n",
    "                           'internalizing', 'externalizing', 'total']]\n",
    "\n",
    "cbcl_base_t['interview_age'] = cbcl_base_t['interview_age'].apply(pd.to_numeric, errors='coerce')"
   ]
  },
  {
   "cell_type": "code",
   "execution_count": 16,
   "metadata": {},
   "outputs": [],
   "source": [
    "    # YEAR 2 Follow UP\n",
    "cbcl_y2 = cbcl[cbcl['eventname'] == '2_year_follow_up_y_arm_1']\n",
    "\n",
    "cbcl_only_y2 = cbcl_y2.iloc[:, 9:128]\n",
    "cbcl_only_y2.columns = cbcl_only_y2.columns.str.lstrip('cbcl_q0').str.rstrip('_p')\n",
    "cbcl_only_cols_y2 = cbcl_only_y2.columns\n",
    "cbcl_only_y2[cbcl_only_cols_y2] = cbcl_only_y2[cbcl_only_cols_y2].apply(pd.to_numeric, errors='coerce')\n",
    "\n",
    "#create total raw scores\n",
    "cbcl_only_y2['anxious_depressed'] = cbcl_only_y2[['14','29','30','33','35','45','52','71','91','112']].sum(axis=1)\n",
    "cbcl_only_y2['withdrawn_depressed'] = cbcl_only_y2[['5','42','65','69','75','102','103','111']].sum(axis=1)\n",
    "cbcl_only_y2['somatic_complaints'] = cbcl_only_y2[['47','49', '51', '54','56a','56b','56c','56d','56e','56f','56g']].sum(axis=1)\n",
    "cbcl_only_y2['social_problems'] = cbcl_only_y2[['11','12','25','27','34','36','38','48','62','64','79']].sum(axis=1)\n",
    "cbcl_only_y2['thought_problems'] = cbcl_only_y2[['9','18','40','46','58','59','60','66','70','76','83','84','85','92','100']].sum(axis=1)\n",
    "cbcl_only_y2['attention_problems'] = cbcl_only_y2[['1','4','8','10','13','17','41','61','78','80']].sum(axis=1)\n",
    "cbcl_only_y2['rule_breaking'] = cbcl_only_y2[['2','26','28','39','43','63','67','72','73','81','82','90','96','99','101','105','106']].sum(axis=1)\n",
    "cbcl_only_y2['agressive'] = cbcl_only_y2[['3','16','19','20','21','22','23','37','57','68','86','87','88','89','94','95','97','104']].sum(axis=1)\n",
    "\n",
    "\n",
    "cbcl_only_y2['internalizing'] = (cbcl_only_y2['withdrawn_depressed']+cbcl_only_y2['somatic_complaints']+cbcl_only_y2['anxious_depressed'])/3\n",
    "cbcl_only_y2['externalizing'] = (cbcl_only_y2['rule_breaking']+cbcl_only_y2['agressive'])/3\n",
    "cbcl_only_y2['total'] = (cbcl_only_y2['internalizing']+cbcl_only_y2['externalizing']+cbcl_only_y2['thought_problems']+cbcl_only_y2['social_problems']+cbcl_only_y2['attention_problems'])/5\n",
    "\n",
    "\n",
    "cbcl_y2_t = pd.concat([cbcl_only_y2, cbcl_y2[['ID','interview_age','sex']]], axis=1).dropna().drop_duplicates(subset =\"ID\", keep = \"first\")\n",
    "\n",
    "cbcl_y2_t = cbcl_y2_t[['ID', 'interview_age','sex', 'anxious_depressed', 'withdrawn_depressed', 'somatic_complaints',\n",
    "                        'social_problems', 'thought_problems', 'attention_problems', 'rule_breaking', 'agressive', \n",
    "                       'internalizing', 'externalizing', 'total']]\n",
    "\n",
    "cbcl_y2_t['interview_age'] = cbcl_y2_t['interview_age'].apply(pd.to_numeric, errors='coerce')"
   ]
  },
  {
   "cell_type": "code",
   "execution_count": 17,
   "metadata": {},
   "outputs": [],
   "source": [
    "cbcl_vars = ['anxious_depressed','withdrawn_depressed', 'somatic_complaints', 'social_problems',\n",
    "              'thought_problems', 'attention_problems', 'rule_breaking', 'agressive',\n",
    "              'internalizing', 'externalizing', 'total']\n",
    "\n",
    "for i in cbcl_vars:\n",
    "    cbcl_base_t = add_resid(cbcl_base_t, i)\n",
    "    cbcl_y2_t = add_resid(cbcl_y2_t, i)\n",
    "\n",
    "    \n",
    "sub_scales = [cbcl_vars + \"_r\" for cbcl_vars in cbcl_vars]\n",
    "cbcl_b_t = cbcl_base_t[['ID'] + sub_scales]\n",
    "cbcl_y2_t = cbcl_y2_t[['ID'] + sub_scales]\n"
   ]
  },
  {
   "cell_type": "code",
   "execution_count": 18,
   "metadata": {},
   "outputs": [],
   "source": [
    "cbcl_base_t.to_csv('/pl/active/banich/studies/Relevantstudies/abcd/data/clustering/behavioral/cbcl_t_baseline.csv', index=False)\n",
    "cbcl_y2_t.to_csv('/pl/active/banich/studies/Relevantstudies/abcd/data/clustering/behavioral/cbcl_t_y2.csv', index=False)"
   ]
  },
  {
   "cell_type": "code",
   "execution_count": null,
   "metadata": {},
   "outputs": [],
   "source": []
  }
 ],
 "metadata": {
  "kernelspec": {
   "display_name": "env",
   "language": "python",
   "name": "env"
  },
  "language_info": {
   "codemirror_mode": {
    "name": "ipython",
    "version": 3
   },
   "file_extension": ".py",
   "mimetype": "text/x-python",
   "name": "python",
   "nbconvert_exporter": "python",
   "pygments_lexer": "ipython3",
   "version": "3.7.3"
  }
 },
 "nbformat": 4,
 "nbformat_minor": 4
}
