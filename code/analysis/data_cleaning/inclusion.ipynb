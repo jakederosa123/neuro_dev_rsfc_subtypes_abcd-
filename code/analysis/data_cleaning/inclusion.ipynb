{
 "cells": [
  {
   "cell_type": "code",
   "execution_count": 1,
   "metadata": {},
   "outputs": [
    {
     "name": "stdout",
     "output_type": "stream",
     "text": [
      "Resting State Baseline: sample1_rest, sample2_rest /n sample1_rest_idsub, sample2_rest_idsub, sample2_rest_idsub\n"
     ]
    }
   ],
   "source": [
    "import sys\n",
    "sys.path.append('/pl/active/banich/studies/Relevantstudies/abcd/env/lib/python3.7/site-packages')\n",
    "sys.path.append('/pl/active/banich/studies/Relevantstudies/abcd/data/clustering/analysis/')\n",
    "from functions import *\n",
    "from import_subtypes import *\n",
    "\n",
    "sns.set(rc={'axes.facecolor':'white', 'figure.facecolor':'white'})\n",
    "%config InlineBackend.figure_format = 'svg' # makes the plots HD in the notebook\n",
    "plt.rcParams[\"figure.autolayout\"] = True # enables tigh layout. Better multiplots"
   ]
  },
  {
   "cell_type": "code",
   "execution_count": 4,
   "metadata": {},
   "outputs": [
    {
     "data": {
      "text/plain": [
       "(9090, 5)"
      ]
     },
     "execution_count": 4,
     "metadata": {},
     "output_type": "execute_result"
    }
   ],
   "source": [
    "include = readtxt('/pl/active/banich/studies/Relevantstudies/abcd/data/clustering/abcd_imgincl01.txt')\n",
    "include = include[['src_subject_id', 'eventname', 'imgincl_dmri_include','imgincl_rsfmri_include','imgincl_t1w_include','imgincl_t2w_include']]\n",
    "\n",
    "include = (include\n",
    "           .query('eventname == \"baseline_year_1_arm_1\"')\n",
    "           .query('imgincl_dmri_include == \"1\"')\n",
    "           .query('imgincl_rsfmri_include == \"1\"')\n",
    "           .query('imgincl_t1w_include == \"1\"')\n",
    "           .query('imgincl_t2w_include == \"1\"')\n",
    "           .rename(columns={\"src_subject_id\": \"ID\"})\n",
    "           .drop('eventname', axis=1)\n",
    "           .reset_index(drop=True)\n",
    ")\n",
    "\n",
    "include['ID'] = include['ID'].str.replace('_', '', regex=True)\n",
    "\n",
    "include.to_csv('/pl/active/banich/studies/Relevantstudies/abcd/data/clustering/inclusion_ids.csv', index=False)\n",
    "\n",
    "include.shape"
   ]
  },
  {
   "cell_type": "code",
   "execution_count": 9,
   "metadata": {},
   "outputs": [
    {
     "data": {
      "text/plain": [
       "(2174, 5)"
      ]
     },
     "execution_count": 9,
     "metadata": {},
     "output_type": "execute_result"
    }
   ],
   "source": [
    "dont_include = readtxt('/pl/active/banich/studies/Relevantstudies/abcd/data/clustering/abcd_imgincl01.txt')\n",
    "dont_include = dont_include[['src_subject_id', 'eventname', 'imgincl_dmri_include','imgincl_rsfmri_include','imgincl_t1w_include','imgincl_t2w_include']]\n",
    "\n",
    "dont_include = (dont_include\n",
    "           .query('eventname == \"baseline_year_1_arm_1\"')\n",
    "           #.query('imgincl_dmri_include == \"0\"')\n",
    "           .query('imgincl_rsfmri_include == \"0\"')\n",
    "          # .query('imgincl_t1w_include == \"0\"')\n",
    "          # .query('imgincl_t2w_include == \"0\"')\n",
    "           .rename(columns={\"src_subject_id\": \"ID\"})\n",
    "           .drop('eventname', axis=1)\n",
    "           .reset_index(drop=True)\n",
    ")\n",
    "\n",
    "dont_include['ID'] = dont_include['ID'].str.replace('_', '', regex=True)\n",
    "\n",
    "dont_include.shape"
   ]
  },
  {
   "cell_type": "code",
   "execution_count": 10,
   "metadata": {},
   "outputs": [],
   "source": [
    "dont_include.to_csv('/pl/active/banich/studies/Relevantstudies/abcd/data/clustering/dont_inclusion_ids.csv', index=False)"
   ]
  },
  {
   "cell_type": "code",
   "execution_count": null,
   "metadata": {},
   "outputs": [],
   "source": []
  }
 ],
 "metadata": {
  "kernelspec": {
   "display_name": "Python 3 (ipykernel)",
   "language": "python",
   "name": "python3"
  },
  "language_info": {
   "codemirror_mode": {
    "name": "ipython",
    "version": 3
   },
   "file_extension": ".py",
   "mimetype": "text/x-python",
   "name": "python",
   "nbconvert_exporter": "python",
   "pygments_lexer": "ipython3",
   "version": "3.7.12"
  }
 },
 "nbformat": 4,
 "nbformat_minor": 4
}
