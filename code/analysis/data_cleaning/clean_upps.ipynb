{
 "cells": [
  {
   "cell_type": "code",
   "execution_count": 26,
   "metadata": {},
   "outputs": [],
   "source": [
    "import sys\n",
    "#sys.path.append('/pl/active/banich/studies/Relevantstudies/abcd/env/lib/python3.7/site-packages')\n",
    "sys.path.append('/pl/active/banich/studies/Relevantstudies/abcd/data/clustering/analysis/')\n",
    "from functions import *\n"
   ]
  },
  {
   "cell_type": "code",
   "execution_count": 27,
   "metadata": {},
   "outputs": [],
   "source": [
    "def get_resids(data, var):\n",
    "    import statsmodels.formula.api as smf\n",
    "    model = smf.ols(var + '~ interview_age + C(sex)', data=data)\n",
    "    model = model.fit()\n",
    "    resid = model.resid\n",
    "    return resid\n",
    "\n",
    "def add_resid(data, var):\n",
    "    data[var + \"_r\"] = get_resids(data, var)\n",
    "    return data"
   ]
  },
  {
   "cell_type": "code",
   "execution_count": 37,
   "metadata": {},
   "outputs": [],
   "source": [
    "bpath = '/pl/active/banich/studies/Relevantstudies/abcd/data/clustering/behavioral/'"
   ]
  },
  {
   "cell_type": "code",
   "execution_count": 38,
   "metadata": {},
   "outputs": [],
   "source": [
    "upps = (readtxt('/pl/active/banich/studies/Relevantstudies/abcd/data/clustering/abcd_upps01.txt')\n",
    "        .rename(columns={'subjectkey': 'ID'})\n",
    "        .drop(['collection_id','abcd_upps01_id','dataset_id',\n",
    "              'src_subject_id', 'collection_title', 'interview_date'], axis=1))\n",
    "#adversitycols = list(full_demos.filter(regex='_exp').columns)\n",
    "upps_baseline = upps[upps ['eventname'] == 'baseline_year_1_arm_1'].drop('eventname', axis=1).dropna()\n",
    "upps_y2 = upps[upps['eventname'] == '2_year_follow_up_y_arm_1'].drop('eventname', axis=1).dropna()\n",
    "\n",
    "upps_baseline['ID'] = upps_baseline['ID'].str.replace('_', '')\n",
    "upps_y2['ID'] = upps_y2['ID'].str.replace('_', '')\n",
    "\n",
    "upps_baseline.to_csv(bpath+'upps_baseline.csv', index=False)"
   ]
  },
  {
   "cell_type": "code",
   "execution_count": 39,
   "metadata": {},
   "outputs": [],
   "source": [
    "upps_baseline_cols = upps_baseline.iloc[:, 3:].columns.to_list()"
   ]
  },
  {
   "cell_type": "code",
   "execution_count": 40,
   "metadata": {},
   "outputs": [],
   "source": [
    "upps_baseline[['interview_age']+upps_baseline_cols] = upps_baseline[['interview_age']+upps_baseline_cols].apply(pd.to_numeric, errors='coerce')"
   ]
  },
  {
   "cell_type": "code",
   "execution_count": 42,
   "metadata": {},
   "outputs": [],
   "source": [
    "for i in upps_baseline_cols: upps_baseline = add_resid(upps_baseline, i)\n",
    "upps_sub_scales = [upps_baseline_cols + \"_r\" for upps_baseline_cols in upps_baseline_cols]\n",
    "upps_baseline = upps_baseline[['ID'] + upps_sub_scales]\n",
    "upps_baseline.to_csv(bpath + 'upps_baseline_r.csv', index=False)"
   ]
  },
  {
   "cell_type": "code",
   "execution_count": null,
   "metadata": {},
   "outputs": [],
   "source": []
  }
 ],
 "metadata": {
  "kernelspec": {
   "display_name": "Python 3 (ipykernel)",
   "language": "python",
   "name": "python3"
  },
  "language_info": {
   "codemirror_mode": {
    "name": "ipython",
    "version": 3
   },
   "file_extension": ".py",
   "mimetype": "text/x-python",
   "name": "python",
   "nbconvert_exporter": "python",
   "pygments_lexer": "ipython3",
   "version": "3.7.12"
  }
 },
 "nbformat": 4,
 "nbformat_minor": 4
}
