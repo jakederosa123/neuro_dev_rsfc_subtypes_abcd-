{
 "cells": [
  {
   "cell_type": "code",
   "execution_count": 1,
   "metadata": {},
   "outputs": [],
   "source": [
    "import sys\n",
    "sys.path.append('/pl/active/banich/studies/Relevantstudies/abcd/data/clustering/analysis/')\n",
    "\n",
    "from functions import *"
   ]
  },
  {
   "cell_type": "code",
   "execution_count": 2,
   "metadata": {},
   "outputs": [],
   "source": [
    "def get_resids(data, var):\n",
    "    import statsmodels.formula.api as smf\n",
    "    model = smf.ols(var + '~ interview_age + C(sex)', data=data)\n",
    "    model = model.fit()\n",
    "    resid = model.resid\n",
    "    return resid\n",
    "\n",
    "def add_resid(data, var):\n",
    "    data[var + \"_r\"] = get_resids(data, var)\n",
    "    return data"
   ]
  },
  {
   "cell_type": "code",
   "execution_count": 3,
   "metadata": {},
   "outputs": [],
   "source": [
    "def data_desc(url, url2=None, pull_list=None):\n",
    "    \n",
    "    dict_df = pd.read_html(url)[3]\n",
    "    \n",
    "    if url2 is not None:\n",
    "        dict_df2 = pd.read_html(url2)[3]\n",
    "        dict_df = pd.concat([dict_df, dict_df2])\n",
    "    \n",
    "    output = (dict_df[['Element Name','Description']]\n",
    "     .rename({'Element Name':'Name'}, axis=1)\n",
    "    )\n",
    "    \n",
    "    if pull_list is not None:\n",
    "        output = output.query('Name not in @pull_list')\n",
    "        \n",
    "    return output.reset_index(drop=True)\n",
    "    #return dict_df\n",
    "    \n",
    "strings_to_filter = ['subjectkey','src_subject_id','interview_date','interview_age','sex','eventname']"
   ]
  },
  {
   "cell_type": "code",
   "execution_count": 4,
   "metadata": {},
   "outputs": [],
   "source": [
    "pd.options.display.max_colwidth = 500\n",
    "\n",
    "nback_var_dict = data_desc('https://nda.nih.gov/data_structure.html?short_name=abcd_mrinback02',\n",
    "                           pull_list = strings_to_filter)\n"
   ]
  },
  {
   "cell_type": "code",
   "execution_count": 5,
   "metadata": {},
   "outputs": [],
   "source": [
    "remove = ['Standard deviation', 'switch', 'trials', 'visit']\n",
    "pull = ['correct responses']\n",
    "nback_vars = (nback_var_dict.fillna('')\n",
    " .query('not Description.str.contains(\"|\".join(@remove))', engine='python')\n",
    " .query('Description.str.contains(\"|\".join(@pull))', engine='python')\n",
    ").Name.to_list()"
   ]
  },
  {
   "cell_type": "code",
   "execution_count": 6,
   "metadata": {},
   "outputs": [],
   "source": [
    "bpath = '/pl/active/banich/studies/Relevantstudies/abcd/data/clustering/behavioral/'\n",
    "\n",
    "df_nback = (readtxt(bpath + 'abcd_mrinback02.txt')[['src_subject_id', 'eventname', 'interview_age', 'sex'] + nback_vars]\n",
    "            .query('eventname == \"baseline_year_1_arm_1\"'))\n",
    "\n",
    "df_nback['ID'] = df_nback['src_subject_id'].str.replace('_', '', regex=True)"
   ]
  },
  {
   "cell_type": "code",
   "execution_count": 7,
   "metadata": {},
   "outputs": [],
   "source": [
    "df_nback=df_nbackdf_nback = df_nback[['ID', 'tfmri_nb_all_beh_ctotal_nt', 'tfmri_nb_all_beh_ctotal_rate','tfmri_nb_all_beh_ctotal_mrt', \n",
    "                                      'tfmri_nb_all_beh_c2b_rate', 'interview_age', 'sex']]"
   ]
  },
  {
   "cell_type": "code",
   "execution_count": 8,
   "metadata": {},
   "outputs": [],
   "source": [
    "df_nback[['interview_age', 'tfmri_nb_all_beh_ctotal_mrt','tfmri_nb_all_beh_ctotal_rate','tfmri_nb_all_beh_ctotal_nt',  'tfmri_nb_all_beh_c2b_rate']] = (df_nback[['interview_age', 'tfmri_nb_all_beh_ctotal_mrt','tfmri_nb_all_beh_ctotal_rate','tfmri_nb_all_beh_ctotal_nt',  'tfmri_nb_all_beh_c2b_rate']]\n",
    "                                                                                                                          .apply(pd.to_numeric, errors='coerce'))"
   ]
  },
  {
   "cell_type": "code",
   "execution_count": 9,
   "metadata": {},
   "outputs": [],
   "source": [
    "nback_subscales=['tfmri_nb_all_beh_ctotal_mrt','tfmri_nb_all_beh_ctotal_rate','tfmri_nb_all_beh_ctotal_nt',  'tfmri_nb_all_beh_c2b_rate']\n",
    "\n",
    "for i in nback_subscales: \n",
    "    df_nback = add_resid(df_nback, i)\n",
    "    \n",
    "nback_sub_scales = [nback_subscales + \"_r\" for nback_subscales in nback_subscales]\n",
    "df_nback = df_nback[['ID'] + nback_sub_scales]"
   ]
  },
  {
   "cell_type": "code",
   "execution_count": 10,
   "metadata": {},
   "outputs": [],
   "source": [
    "df_nback.columns = ['ID', 'nb_total_n_correct', 'nb_total_rate_correct', 'nb_mean_rt_corect', 'nb_all_beh_c2b_rate']\n",
    "df_nback.to_csv(bpath + 'nback_behavior_baseline.csv', index=False)"
   ]
  },
  {
   "cell_type": "code",
   "execution_count": null,
   "metadata": {},
   "outputs": [],
   "source": []
  },
  {
   "cell_type": "code",
   "execution_count": null,
   "metadata": {},
   "outputs": [],
   "source": []
  }
 ],
 "metadata": {
  "kernelspec": {
   "display_name": "env",
   "language": "python",
   "name": "env"
  },
  "language_info": {
   "codemirror_mode": {
    "name": "ipython",
    "version": 3
   },
   "file_extension": ".py",
   "mimetype": "text/x-python",
   "name": "python",
   "nbconvert_exporter": "python",
   "pygments_lexer": "ipython3",
   "version": "3.7.3"
  }
 },
 "nbformat": 4,
 "nbformat_minor": 4
}
