{
 "cells": [
  {
   "cell_type": "code",
   "execution_count": 2,
   "metadata": {},
   "outputs": [],
   "source": [
    "import sys\n",
    "sys.path.append('/pl/active/banich/studies/Relevantstudies/abcd/env/lib/python3.7/site-packages')\n",
    "sys.path.append('/pl/active/banich/studies/Relevantstudies/abcd/data/clustering/analysis/')\n",
    "from functions import *"
   ]
  },
  {
   "cell_type": "code",
   "execution_count": 3,
   "metadata": {},
   "outputs": [],
   "source": [
    "bpath = '/pl/active/banich/studies/Relevantstudies/abcd/data/clustering/behavioral/'\n",
    "\n",
    "def get_resids(data, var):\n",
    "    import statsmodels.formula.api as smf\n",
    "    model = smf.ols(var + '~ interview_age + C(sex)', data=data)\n",
    "    model = model.fit()\n",
    "    resid = model.resid\n",
    "    return resid\n",
    "\n",
    "def add_resid(data, var):\n",
    "    data[var + \"_r\"] = get_resids(data, var)\n",
    "    return data"
   ]
  },
  {
   "cell_type": "code",
   "execution_count": 4,
   "metadata": {},
   "outputs": [],
   "source": [
    "# NIH w PC --------------------------------------\n",
    "nih_toolbox = (readit('/pl/active/banich/studies/Relevantstudies/abcd/data/clustering/nda18_w_nc_pca.csv')\n",
    "               .rename(columns={'src_subject_id': 'ID', 'Age':'interview_age', 'Female':'sex'}))\n",
    "nih_toolbox['ID'] = nih_toolbox['ID'].str.replace('_', '')\n",
    "nih_vars = ['PicVocab','Flanker','List','CardSort','Pattern','Picture','Reading','RAVLT','LMT','pc1_new','pc2_new','pc3_new']\n",
    "nih_toolbox = nih_toolbox[['ID', 'interview_age', 'sex'] + nih_vars]\n",
    "               \n",
    "for i in nih_vars: nih_toolbox = add_resid(nih_toolbox, i)\n",
    "nih_sub_scales = [nih_vars + \"_r\" for nih_vars in nih_vars]\n",
    "nih_toolbox = nih_toolbox[['ID'] + nih_sub_scales]\n",
    "nih_toolbox.to_csv(bpath + 'nih_baseline.csv', index=False)\n",
    "\n",
    "\n",
    "# Stroop --------------------------------------\n",
    "stroop_beh = (readit('/pl/active/banich/studies/Relevantstudies/abcd/data/clustering/data_ABCD_PAPER_Stroop.csv')\n",
    "              .rename(columns={'subjectkey': 'ID', 'interview_age.x':'interview_age', 'sex.x':'sex'}))\n",
    "stroop_beh['ID'] = stroop_beh['ID'].str.replace('_', '')\n",
    "\n",
    "stroop_vars = ['Stroop_interf_acc_all', 'Stroop_interf_RT_all', 'Stroop_interf_acc_Eq',\n",
    "               'Stroop_interf_RT_Eq', 'Stroop_interf_acc_MC', 'Stroop_interf_RT_MC', 'Happy_RT_Eq', \n",
    "               'Angry_RT_Eq', 'Happy_Acc_Eq', 'Angry_Acc_Eq','HappyMinusAngry_RT_Eq', 'HappyMinusAngry_Acc_Eq',\n",
    "               'Stroop_interf_RT_angryMC', 'Stroop_interf_RT_happyMC', 'Stroop_interf_acc_angryMC', 'Stroop_interf_acc_happyMC']\n",
    "            \n",
    "stroop_beh = stroop_beh[['ID', 'interview_age', 'sex'] + stroop_vars]\n",
    "\n",
    "for i in stroop_vars: stroop_beh = add_resid(stroop_beh, i)\n",
    "stroop_sub_scales = [stroop_vars + \"_r\" for stroop_vars in stroop_vars]\n",
    "stroop_beh = stroop_beh[['ID'] + stroop_sub_scales]\n",
    "stroop_beh.to_csv(bpath + 'stroop_baseline.csv', index=False)\n",
    "\n",
    "\n",
    "# SST  --------------------------------------\n",
    "sst = readtxt(bpath + 'abcd_sst02.txt').query('eventname == \"baseline_year_1_arm_1\"')\n",
    "sst['ID'] = sst['src_subject_id'].str.replace('_', '', regex=True)\n",
    "sst = sst.drop(['collection_id','abcd_sst02_id','dataset_id','subjectkey','src_subject_id',\n",
    "'interview_date','eventname','collection_title', 'tfmri_sst_beh_visitid'], axis=1)\n",
    "sst_vars = sst.iloc[:, 2:97].columns.to_list()\n",
    "sst = sst[['ID', 'interview_age', 'sex'] + sst_vars]\n",
    "#for i in sst_vars: sst = add_resid(sst, i)\n",
    "#sst_sub_scales = [stroop_vars + \"_r\" for sst__vars in sst_vars]\n",
    "#sst = sst[['ID'] + sst_sub_scales]\n",
    "sst.to_csv(bpath + 'sst_baseline.csv', index=False)\n",
    "\n",
    "\n",
    "# Pearson (Matrix Reasoning) --------------------------------------\n",
    "pearson = readtxt(bpath + 'abcd_ps01.txt').query('eventname == \"baseline_year_1_arm_1\"')\n",
    "pearson['ID'] = pearson['src_subject_id'].str.replace('_', '', regex=True)\n",
    "pearson = pearson[['ID', 'interview_age', 'sex', 'pea_wiscv_trs']]\n",
    "\n",
    "pearson[['interview_age', 'pea_wiscv_trs']] = pearson[['interview_age', 'pea_wiscv_trs']].apply(pd.to_numeric, errors='coerce')\n",
    "pearson_final = (add_resid(pearson, 'pea_wiscv_trs')\n",
    "           .drop(['interview_age', 'sex','pea_wiscv_trs'], axis=1)\n",
    "           .rename({'pea_wiscv_trs_r':'matrix_r'}, axis=1))\n",
    "\n",
    "pearson_final.to_csv(bpath + 'pearson_baseline.csv', index=False)"
   ]
  },
  {
   "cell_type": "code",
   "execution_count": null,
   "metadata": {},
   "outputs": [],
   "source": []
  }
 ],
 "metadata": {
  "kernelspec": {
   "display_name": "env",
   "language": "python",
   "name": "env"
  },
  "language_info": {
   "codemirror_mode": {
    "name": "ipython",
    "version": 3
   },
   "file_extension": ".py",
   "mimetype": "text/x-python",
   "name": "python",
   "nbconvert_exporter": "python",
   "pygments_lexer": "ipython3",
   "version": "3.7.3"
  }
 },
 "nbformat": 4,
 "nbformat_minor": 4
}
