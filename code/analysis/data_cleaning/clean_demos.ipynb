{
 "cells": [
  {
   "cell_type": "code",
   "execution_count": 1,
   "metadata": {},
   "outputs": [],
   "source": [
    "import sys\n",
    "sys.path.append('/pl/active/banich/studies/Relevantstudies/abcd/env/lib/python3.7/site-packages')\n",
    "sys.path.append('/pl/active/banich/studies/Relevantstudies/abcd/data/clustering/analysis/')\n",
    "from functions import *"
   ]
  },
  {
   "cell_type": "code",
   "execution_count": 2,
   "metadata": {},
   "outputs": [],
   "source": [
    "include = pd.read_csv('/pl/active/banich/studies/Relevantstudies/abcd/data/clustering/inclusion_ids.csv')[['ID']]\n",
    "\n",
    "new_demos = readit(\"/pl/active/banich/studies/Relevantstudies/abcd/data/clustering/abcd_demos.csv\")\n",
    "\n",
    "new_demos = (new_demos.rename(columns={'src_subject_id': 'ID', 'high.educ': 'high_educ', 'household.income': 'household_income'})\n",
    "             .query('event_name == \"baseline_year_1_arm_1\"')\n",
    "             #.dropna()\n",
    "            )\n",
    "new_demos['ID'] = new_demos['ID'].str.replace('_', '')\n",
    "\n",
    "family = new_demos[['ID', 'rel_family_id']]\n",
    "\n",
    "#family = pd.merge(include, family, on='ID')\n",
    "\n",
    "dropped_siblings = family.groupby('rel_family_id').sample(n=1, random_state=10).reset_index(drop=True)[['ID']]"
   ]
  },
  {
   "cell_type": "code",
   "execution_count": 3,
   "metadata": {},
   "outputs": [
    {
     "name": "stdout",
     "output_type": "stream",
     "text": [
      "Demographics: new_demos, demos\n",
      "Adversity: demos_adv\n"
     ]
    }
   ],
   "source": [
    "demos = new_demos[['ID', 'race_ethnicity', 'household_income', 'hisp', 'sex_at_birth', 'age', 'high_educ', 'married', 'abcd_site']]\n",
    "demos = demos.fillna('NA')\n",
    "\n",
    "demos[['household_income']] = demos[['household_income']].applymap(lambda x: x.replace('[', '').replace(']', ''))\n",
    "print(\"Demographics: new_demos, demos\")\n",
    "\n",
    "full_demos = (readtxt('/pl/active/banich/studies/Relevantstudies/abcd/data/clustering/abcd_lpds01.txt')\n",
    "              .rename(columns={'subjectkey': 'ID'}))\n",
    "adversitycols = list(full_demos.filter(regex='_exp').columns)\n",
    "\n",
    "def filt(df, cols, thresh):\n",
    "    return df.loc[(df[cols] < thresh).all(axis=1)]\n",
    "\n",
    "full_demos['ID'] = full_demos['ID'].str.replace('_', '')\n",
    "full_demos_adv = full_demos[['ID'] + adversitycols].dropna()\n",
    "full_demos_adv = full_demos_adv.drop_duplicates(subset =\"ID\", keep = \"first\")\n",
    "full_demos_adv[adversitycols] = full_demos_adv[adversitycols].apply(pd.to_numeric, errors='coerce')\n",
    "full_demos_adv = filt(full_demos_adv, adversitycols, 777)\n",
    "full_demos_adv['adversity'] = full_demos_adv[adversitycols].sum(axis=1)\n",
    "demos_adv = full_demos_adv[['ID', 'adversity']]\n",
    "print(\"Adversity: demos_adv\")"
   ]
  },
  {
   "cell_type": "code",
   "execution_count": 4,
   "metadata": {},
   "outputs": [],
   "source": [
    "demos_baseline = (demos.merge(demos_adv , on='ID', how='outer')\n",
    " .drop_duplicates('ID', keep='first'))"
   ]
  },
  {
   "cell_type": "code",
   "execution_count": 5,
   "metadata": {},
   "outputs": [],
   "source": [
    "demos_baseline.to_csv('/pl/active/banich/studies/Relevantstudies/abcd/data/clustering/demos_baseline.csv', index=False)"
   ]
  },
  {
   "cell_type": "code",
   "execution_count": 6,
   "metadata": {},
   "outputs": [],
   "source": [
    "dropped_siblings.to_csv('/pl/active/banich/studies/Relevantstudies/abcd/data/clustering/dropped_siblings.csv', index=False)"
   ]
  },
  {
   "cell_type": "code",
   "execution_count": null,
   "metadata": {},
   "outputs": [],
   "source": []
  }
 ],
 "metadata": {
  "kernelspec": {
   "display_name": "env",
   "language": "python",
   "name": "env"
  },
  "language_info": {
   "codemirror_mode": {
    "name": "ipython",
    "version": 3
   },
   "file_extension": ".py",
   "mimetype": "text/x-python",
   "name": "python",
   "nbconvert_exporter": "python",
   "pygments_lexer": "ipython3",
   "version": "3.7.3"
  }
 },
 "nbformat": 4,
 "nbformat_minor": 4
}
