{
 "cells": [
  {
   "cell_type": "code",
   "execution_count": 1,
   "metadata": {},
   "outputs": [],
   "source": [
    "import sys\n",
    "#sys.path.append('/pl/active/banich/studies/Relevantstudies/abcd/env/lib/python3.7/site-packages')\n",
    "sys.path.append('/pl/active/banich/studies/Relevantstudies/abcd/data/clustering/analysis/')\n",
    "from functions import *"
   ]
  },
  {
   "cell_type": "code",
   "execution_count": 2,
   "metadata": {},
   "outputs": [],
   "source": [
    "def get_resids(data, var):\n",
    "    import statsmodels.formula.api as smf\n",
    "    model = smf.ols(var + '~ interview_age + C(sex)', data=data)\n",
    "    model = model.fit()\n",
    "    resid = model.resid\n",
    "    return resid\n",
    "\n",
    "def add_resid(data, var):\n",
    "    data[var + \"_r\"] = get_resids(data, var)\n",
    "    return data"
   ]
  },
  {
   "cell_type": "code",
   "execution_count": 31,
   "metadata": {},
   "outputs": [],
   "source": [
    "bpath = '/pl/active/banich/studies/Relevantstudies/abcd/data/clustering/behavioral/'\n",
    "\n",
    "sst = (readtxt(bpath+'abcd_sst02.txt')#[['src_subject_id', 'eventname', 'interview_age', 'sex'] + nback_vars]\n",
    "            .query('eventname == \"baseline_year_1_arm_1\"'))\n",
    "\n",
    "sst['ID'] = sst['src_subject_id'].str.replace('_', '', regex=True)\n",
    "sst = sst[['ID', 'interview_age', 'sex', 'tfmri_sst_all_beh_total_meanrt']].dropna()"
   ]
  },
  {
   "cell_type": "code",
   "execution_count": 32,
   "metadata": {},
   "outputs": [],
   "source": [
    "sst[['interview_age', 'tfmri_sst_all_beh_total_meanrt']] = sst[['interview_age', 'tfmri_sst_all_beh_total_meanrt']].apply(pd.to_numeric, errors='coerce')"
   ]
  },
  {
   "cell_type": "code",
   "execution_count": 35,
   "metadata": {},
   "outputs": [],
   "source": [
    "sst = add_resid(sst, 'tfmri_sst_all_beh_total_meanrt')"
   ]
  },
  {
   "cell_type": "code",
   "execution_count": 36,
   "metadata": {},
   "outputs": [],
   "source": [
    "sst.to_csv('/pl/active/banich/studies/Relevantstudies/abcd/data/clustering/behavioral/sst_baseline_r.csv', index=False)"
   ]
  },
  {
   "cell_type": "code",
   "execution_count": null,
   "metadata": {},
   "outputs": [],
   "source": []
  }
 ],
 "metadata": {
  "kernelspec": {
   "display_name": "Python 3 (ipykernel)",
   "language": "python",
   "name": "python3"
  },
  "language_info": {
   "codemirror_mode": {
    "name": "ipython",
    "version": 3
   },
   "file_extension": ".py",
   "mimetype": "text/x-python",
   "name": "python",
   "nbconvert_exporter": "python",
   "pygments_lexer": "ipython3",
   "version": "3.7.12"
  }
 },
 "nbformat": 4,
 "nbformat_minor": 4
}
